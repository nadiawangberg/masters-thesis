{
 "cells": [
  {
   "cell_type": "markdown",
   "metadata": {},
   "source": [
    "# Interactive Demo for Metrics\n",
    "\n",
    "* command line executables: see README.md\n",
    "* algorithm documentation: [metrics.py API & Algorithm Documentation](metrics.py_API_Documentation.ipynb)"
   ]
  },
  {
   "cell_type": "markdown",
   "metadata": {
    "slideshow": {
     "slide_type": "fragment"
    }
   },
   "source": [
    "...some modules and settings for this demo:"
   ]
  },
  {
   "cell_type": "code",
   "execution_count": 21,
   "metadata": {
    "scrolled": true,
    "slideshow": {
     "slide_type": "fragment"
    }
   },
   "outputs": [],
   "source": [
    "from evo.tools import log\n",
    "log.configure_logging()"
   ]
  },
  {
   "cell_type": "code",
   "execution_count": 22,
   "metadata": {},
   "outputs": [],
   "source": [
    "from evo.tools import plot\n",
    "from evo.tools.plot import PlotMode\n",
    "from evo.core.metrics import PoseRelation, Unit\n",
    "from evo.tools.settings import SETTINGS\n",
    "\n",
    "# temporarily override some package settings\n",
    "SETTINGS.plot_figsize = [6, 6]\n",
    "SETTINGS.plot_split = True\n",
    "SETTINGS.plot_usetex = False\n",
    "\n",
    "# magic plot configuration\n",
    "import matplotlib.pyplot as plt\n",
    "%matplotlib inline\n",
    "%matplotlib notebook"
   ]
  },
  {
   "cell_type": "code",
   "execution_count": 23,
   "metadata": {},
   "outputs": [],
   "source": [
    "# interactive widgets configuration\n",
    "import ipywidgets\n",
    "\n",
    "check_opts_ape = {\"align\": False, \"align_origin\": False, \"correct_scale\": False, \"show_plot\": True}\n",
    "check_boxes_ape=[ipywidgets.Checkbox(description=desc, value=val) for desc, val in check_opts_ape.items()]\n",
    "check_opts_rpe = {\"align\": False, \"align_origin\": False, \"correct_scale\": False, \"all_pairs\": False, \"show_plot\": True}\n",
    "check_boxes_rpe=[ipywidgets.Checkbox(description=desc, value=val) for desc, val in check_opts_rpe.items()]\n",
    "delta_input = ipywidgets.FloatText(value=1.0, description='delta', disabled=False, color='black')\n",
    "delta_unit_selector=ipywidgets.Dropdown(\n",
    "    options={u.value: u for u in Unit if u is not Unit.seconds},\n",
    "    value=Unit.frames, description='delta_unit'\n",
    ")\n",
    "plotmode_selector=ipywidgets.Dropdown(\n",
    "    options={p.value: p for p in PlotMode},\n",
    "    value=PlotMode.xy, description='plot_mode'\n",
    ")\n",
    "pose_relation_selector=ipywidgets.Dropdown(\n",
    "    options={p.value: p for p in PoseRelation},\n",
    "    value=PoseRelation.translation_part, description='pose_relation'\n",
    ")"
   ]
  },
  {
   "cell_type": "markdown",
   "metadata": {},
   "source": [
    "---\n",
    "\n",
    "## Load trajectories"
   ]
  },
  {
   "cell_type": "code",
   "execution_count": 24,
   "metadata": {},
   "outputs": [],
   "source": [
    "from evo.tools import file_interface\n",
    "from evo.core import sync"
   ]
  },
  {
   "cell_type": "markdown",
   "metadata": {},
   "source": [
    "**Load a ROS bagfile** with `geometry_msgs/PoseStamped`, `geometry_msgs/TransformStamped`, `geometry_msgs/PoseWithCovarianceStamped` or `nav_msgs/Odometry` topics:"
   ]
  },
  {
   "cell_type": "code",
   "execution_count": 6,
   "metadata": {},
   "outputs": [],
   "source": [
    "try:\n",
    "    import rosbag\n",
    "    bag_handle = rosbag.Bag(\"../wheel_slam/bags/MuSe/MuSe_w_RTAB_EKF/s2-s2.bag\")\n",
    "    traj_RTAB_odom = file_interface.read_bag_trajectory(bag_handle, \"/rtabmap/odom\")\n",
    "    traj_RTAB_map = file_interface.read_bag_trajectory(bag_handle, \"/rtabmap/localization_pose\")\n",
    "    \n",
    "    traj_wheel_odom = file_interface.read_bag_trajectory(bag_handle, \"/odom\")\n",
    "    traj_EKF = file_interface.read_bag_trajectory(bag_handle, \"/robot_pose_ekf/odom_combined\")\n",
    "    traj_gt = file_interface.read_bag_trajectory(bag_handle, \"/vicon/kobuki_vicon_link/kobuki_vicon_link\")\n",
    "    \n",
    "except ImportError as e:\n",
    "    print(e)  # ROS not found"
   ]
  },
  {
   "cell_type": "markdown",
   "metadata": {},
   "source": [
    "**Load a MuSe_w_clearpathEKF**"
   ]
  },
  {
   "cell_type": "code",
   "execution_count": 41,
   "metadata": {},
   "outputs": [],
   "source": [
    "try:\n",
    "    import rosbag\n",
    "    bag_handle = rosbag.Bag(\"../wheel_slam/bags/MuSe/MuSe_W_RTAB_clearpathEKF/s2-s2-clearpathEKF-short.bag\")\n",
    "    traj_RTAB_odom = file_interface.read_bag_trajectory(bag_handle, \"/rtabmap/vo_odom\")\n",
    "    #traj_RTAB_map = file_interface.read_bag_trajectory(bag_handle, \"/rtabmap/localization_pose\")\n",
    "    \n",
    "    traj_wheel_odom = file_interface.read_bag_trajectory(bag_handle, \"/odom\")\n",
    "    traj_EKF = file_interface.read_bag_trajectory(bag_handle, \"/odometry/filtered\")\n",
    "    traj_gt = file_interface.read_bag_trajectory(bag_handle, \"/vicon/kobuki_vicon_link/kobuki_vicon_link\")\n",
    "    \n",
    "except ImportError as e:\n",
    "    print(e)  # ROS not found"
   ]
  },
  {
   "cell_type": "code",
   "execution_count": 30,
   "metadata": {},
   "outputs": [],
   "source": [
    "try:\n",
    "    import rosbag\n",
    "    bag_handle = rosbag.Bag(\"../wheel_slam/bags/MuSe/MuSe_W_RTAB_clearpathEKF/s2-s2-clearpathEKF-long.bag\")\n",
    "    traj_RTAB_odom = file_interface.read_bag_trajectory(bag_handle, \"/rtabmap/vo_odom\")\n",
    "    traj_RTAB_map = file_interface.read_bag_trajectory(bag_handle, \"/rtabmap/localization_pose\")\n",
    "    \n",
    "    traj_wheel_odom = file_interface.read_bag_trajectory(bag_handle, \"/odom\")\n",
    "    traj_EKF = file_interface.read_bag_trajectory(bag_handle, \"/odometry/filtered\")\n",
    "    traj_gt = file_interface.read_bag_trajectory(bag_handle, \"/vicon/kobuki_vicon_link/kobuki_vicon_link\")\n",
    "    \n",
    "except ImportError as e:\n",
    "    print(e)  # ROS not found"
   ]
  },
  {
   "cell_type": "code",
   "execution_count": 44,
   "metadata": {
    "scrolled": true
   },
   "outputs": [
    {
     "name": "stdout",
     "output_type": "stream",
     "text": [
      "1607 poses, 17.507m path length, 182.402s duration\n",
      "1607 poses, 16.961m path length, 182.401s duration\n"
     ]
    }
   ],
   "source": [
    "traj_ref, traj_est = sync.associate_trajectories(traj_gt, traj_RTAB_odom) # traj_ref, traj_est\n",
    "#_, traj_est = sync.associate_trajectories(traj_gt, traj_RTAB_map) # traj_ref, traj_est\n",
    "#_, traj_est = sync.associate_trajectories(traj_gt, traj_wheel_odom) # traj_ref, traj_est\n",
    "#_, traj_est = sync.associate_trajectories(traj_gt, traj_EKF) # traj_ref, traj_est\n",
    "\n",
    "print(traj_ref)\n",
    "print(traj_est)"
   ]
  },
  {
   "cell_type": "markdown",
   "metadata": {},
   "source": [
    "## APE\n",
    "\n",
    "Algorithm and API explanation: [see here](metrics.py_API_Documentation.ipynb#ape_math)\n",
    "\n",
    "\n",
    "### Interactive APE Demo\n",
    "***Run the code below, configure the parameters in the GUI and press the update button.***\n",
    "\n",
    "(uses the trajectories loaded above)"
   ]
  },
  {
   "cell_type": "code",
   "execution_count": 40,
   "metadata": {
    "scrolled": true
   },
   "outputs": [
    {
     "data": {
      "application/vnd.jupyter.widget-view+json": {
       "model_id": "b86cbaf617d64bf4bb2a07b6389c68ce",
       "version_major": 2,
       "version_minor": 0
      },
      "text/plain": [
       "interactive(children=(Dropdown(description='pose_relation', options={'full transformation': <PoseRelation.full…"
      ]
     },
     "metadata": {},
     "output_type": "display_data"
    }
   ],
   "source": [
    "import evo.main_ape as main_ape\n",
    "import evo.common_ape_rpe as common\n",
    "\n",
    "count = 0\n",
    "results = []\n",
    "\n",
    "def callback_ape(pose_relation, align, align_origin, correct_scale, plot_mode, show_plot):\n",
    "    global results, count\n",
    "    est_name=\"APE Test #{}\".format(count)\n",
    "    \n",
    "    \n",
    "    result = main_ape.ape(traj_ref, traj_est, est_name=est_name,\n",
    "                          pose_relation=pose_relation, align=align, correct_scale=correct_scale,\n",
    "                          align_origin=align_origin)\n",
    "    count += 1\n",
    "    results.append(result)\n",
    "    print(result.info)\n",
    "    \n",
    "    if show_plot:\n",
    "        fig = plt.figure()\n",
    "        ax = plot.prepare_axis(fig, plot_mode)\n",
    "        plot.traj(ax, plot_mode, traj_ref, style=\"--\", alpha=0.5)\n",
    "        plot.traj_colormap(\n",
    "            ax, result.trajectories[est_name], result.np_arrays[\"error_array\"], plot_mode,\n",
    "            min_map=result.stats[\"min\"], max_map=result.stats[\"max\"])\n",
    "    \n",
    "_ = ipywidgets.interact_manual(callback_ape, pose_relation=pose_relation_selector, plot_mode=plotmode_selector,**{c.description: c.value for c in check_boxes_ape})"
   ]
  },
  {
   "cell_type": "markdown",
   "metadata": {},
   "source": [
    "---\n",
    "\n",
    "## RPE\n",
    "\n",
    "Algorithm and API explanation: [see here](metrics.py_API_Documentation.ipynb#rpe_math)"
   ]
  },
  {
   "cell_type": "markdown",
   "metadata": {},
   "source": [
    "### Interactive RPE Demo"
   ]
  },
  {
   "cell_type": "markdown",
   "metadata": {},
   "source": [
    "***Run the code below, configure the parameters in the GUI and press the update button.***\n",
    "\n",
    "(uses the trajectories loaded above, alignment only useful for visualization here)"
   ]
  },
  {
   "cell_type": "code",
   "execution_count": 35,
   "metadata": {
    "scrolled": false
   },
   "outputs": [
    {
     "data": {
      "application/vnd.jupyter.widget-view+json": {
       "model_id": "1b66dbb1497f4ce29188d9a8620abe14",
       "version_major": 2,
       "version_minor": 0
      },
      "text/plain": [
       "interactive(children=(Dropdown(description='pose_relation', options={'full transformation': <PoseRelation.full…"
      ]
     },
     "metadata": {},
     "output_type": "display_data"
    }
   ],
   "source": [
    "import evo.main_rpe as main_rpe\n",
    "\n",
    "count = 0\n",
    "results = []\n",
    "\n",
    "def callback_rpe(pose_relation, delta, delta_unit, all_pairs, align, correct_scale, plot_mode, show_plot):\n",
    "    global results, count\n",
    "    est_name=\"RPE Test #{}\".format(count)\n",
    "    result = main_rpe.rpe(traj_ref, traj_est, est_name=est_name,\n",
    "                          pose_relation=pose_relation, delta=delta, delta_unit=delta_unit, \n",
    "                          all_pairs=all_pairs, align=align, correct_scale=correct_scale, \n",
    "                          support_loop=True)\n",
    "    count += 1\n",
    "    results.append(result)\n",
    "    \n",
    "    if show_plot:\n",
    "        fig = plt.figure()\n",
    "        ax = plot.prepare_axis(fig, plot_mode)\n",
    "        plot.traj(ax, plot_mode, traj_ref, style=\"--\", alpha=0.5)\n",
    "        plot.traj_colormap(\n",
    "            ax, result.trajectories[est_name], result.np_arrays[\"error_array\"], plot_mode,\n",
    "            min_map=result.stats[\"min\"], max_map=result.stats[\"max\"])\n",
    "\n",
    "_ = ipywidgets.interact_manual(callback_rpe, pose_relation=pose_relation_selector, plot_mode=plotmode_selector, \n",
    "                               delta=delta_input, delta_unit=delta_unit_selector, \n",
    "                               **{c.description: c.value for c in check_boxes_rpe})"
   ]
  },
  {
   "cell_type": "markdown",
   "metadata": {
    "collapsed": true
   },
   "source": [
    "Do stuff with the result objects:"
   ]
  },
  {
   "cell_type": "code",
   "execution_count": 63,
   "metadata": {
    "scrolled": true
   },
   "outputs": [
    {
     "data": {
      "text/html": [
       "<div>\n",
       "<style scoped>\n",
       "    .dataframe tbody tr th:only-of-type {\n",
       "        vertical-align: middle;\n",
       "    }\n",
       "\n",
       "    .dataframe tbody tr th {\n",
       "        vertical-align: top;\n",
       "    }\n",
       "\n",
       "    .dataframe thead th {\n",
       "        text-align: right;\n",
       "    }\n",
       "</style>\n",
       "<table border=\"1\" class=\"dataframe\">\n",
       "  <thead>\n",
       "    <tr style=\"text-align: right;\">\n",
       "      <th></th>\n",
       "      <th></th>\n",
       "      <th>APE Test #0</th>\n",
       "    </tr>\n",
       "  </thead>\n",
       "  <tbody>\n",
       "    <tr>\n",
       "      <th rowspan=\"4\" valign=\"top\">info</th>\n",
       "      <th>title</th>\n",
       "      <td>APE w.r.t. full transformation (unit-less)\\n(w...</td>\n",
       "    </tr>\n",
       "    <tr>\n",
       "      <th>ref_name</th>\n",
       "      <td>reference</td>\n",
       "    </tr>\n",
       "    <tr>\n",
       "      <th>est_name</th>\n",
       "      <td>APE Test #0</td>\n",
       "    </tr>\n",
       "    <tr>\n",
       "      <th>label</th>\n",
       "      <td>APE (unit-less)</td>\n",
       "    </tr>\n",
       "    <tr>\n",
       "      <th rowspan=\"7\" valign=\"top\">stats</th>\n",
       "      <th>rmse</th>\n",
       "      <td>0.254818</td>\n",
       "    </tr>\n",
       "    <tr>\n",
       "      <th>mean</th>\n",
       "      <td>0.230947</td>\n",
       "    </tr>\n",
       "    <tr>\n",
       "      <th>median</th>\n",
       "      <td>0.199887</td>\n",
       "    </tr>\n",
       "    <tr>\n",
       "      <th>std</th>\n",
       "      <td>0.107683</td>\n",
       "    </tr>\n",
       "    <tr>\n",
       "      <th>min</th>\n",
       "      <td>0.111857</td>\n",
       "    </tr>\n",
       "    <tr>\n",
       "      <th>max</th>\n",
       "      <td>0.497646</td>\n",
       "    </tr>\n",
       "    <tr>\n",
       "      <th>sse</th>\n",
       "      <td>5.2595</td>\n",
       "    </tr>\n",
       "    <tr>\n",
       "      <th rowspan=\"4\" valign=\"top\">np_arrays</th>\n",
       "      <th>error_array</th>\n",
       "      <td>[0.11907134493178788, 0.11386259052226931, 0.1...</td>\n",
       "    </tr>\n",
       "    <tr>\n",
       "      <th>seconds_from_start</th>\n",
       "      <td>[0.0, 4.406501054763794, 9.677489757537842, 13...</td>\n",
       "    </tr>\n",
       "    <tr>\n",
       "      <th>timestamps</th>\n",
       "      <td>[1544025522.9455829, 1544025527.352084, 154402...</td>\n",
       "    </tr>\n",
       "    <tr>\n",
       "      <th>alignment_transformation_sim3</th>\n",
       "      <td>[[0.9845137413426976, 0.17449703217859844, -0....</td>\n",
       "    </tr>\n",
       "  </tbody>\n",
       "</table>\n",
       "</div>"
      ],
      "text/plain": [
       "                                                                               APE Test #0\n",
       "info      title                          APE w.r.t. full transformation (unit-less)\\n(w...\n",
       "          ref_name                                                               reference\n",
       "          est_name                                                             APE Test #0\n",
       "          label                                                            APE (unit-less)\n",
       "stats     rmse                                                                    0.254818\n",
       "          mean                                                                    0.230947\n",
       "          median                                                                  0.199887\n",
       "          std                                                                     0.107683\n",
       "          min                                                                     0.111857\n",
       "          max                                                                     0.497646\n",
       "          sse                                                                       5.2595\n",
       "np_arrays error_array                    [0.11907134493178788, 0.11386259052226931, 0.1...\n",
       "          seconds_from_start             [0.0, 4.406501054763794, 9.677489757537842, 13...\n",
       "          timestamps                     [1544025522.9455829, 1544025527.352084, 154402...\n",
       "          alignment_transformation_sim3  [[0.9845137413426976, 0.17449703217859844, -0...."
      ]
     },
     "execution_count": 63,
     "metadata": {},
     "output_type": "execute_result"
    }
   ],
   "source": [
    "import pandas as pd\n",
    "from evo.tools import pandas_bridge\n",
    "\n",
    "df = pd.DataFrame()\n",
    "for result in results:\n",
    "    df = pd.concat((df, pandas_bridge.result_to_df(result)), axis=\"columns\")\n",
    "df"
   ]
  },
  {
   "cell_type": "code",
   "execution_count": 64,
   "metadata": {
    "scrolled": true
   },
   "outputs": [
    {
     "data": {
      "text/html": [
       "<div>\n",
       "<style scoped>\n",
       "    .dataframe tbody tr th:only-of-type {\n",
       "        vertical-align: middle;\n",
       "    }\n",
       "\n",
       "    .dataframe tbody tr th {\n",
       "        vertical-align: top;\n",
       "    }\n",
       "\n",
       "    .dataframe thead th {\n",
       "        text-align: right;\n",
       "    }\n",
       "</style>\n",
       "<table border=\"1\" class=\"dataframe\">\n",
       "  <thead>\n",
       "    <tr style=\"text-align: right;\">\n",
       "      <th></th>\n",
       "      <th>APE Test #0</th>\n",
       "    </tr>\n",
       "  </thead>\n",
       "  <tbody>\n",
       "    <tr>\n",
       "      <th>rmse</th>\n",
       "      <td>0.254818</td>\n",
       "    </tr>\n",
       "    <tr>\n",
       "      <th>mean</th>\n",
       "      <td>0.230947</td>\n",
       "    </tr>\n",
       "    <tr>\n",
       "      <th>median</th>\n",
       "      <td>0.199887</td>\n",
       "    </tr>\n",
       "    <tr>\n",
       "      <th>std</th>\n",
       "      <td>0.107683</td>\n",
       "    </tr>\n",
       "    <tr>\n",
       "      <th>min</th>\n",
       "      <td>0.111857</td>\n",
       "    </tr>\n",
       "    <tr>\n",
       "      <th>max</th>\n",
       "      <td>0.497646</td>\n",
       "    </tr>\n",
       "    <tr>\n",
       "      <th>sse</th>\n",
       "      <td>5.2595</td>\n",
       "    </tr>\n",
       "  </tbody>\n",
       "</table>\n",
       "</div>"
      ],
      "text/plain": [
       "       APE Test #0\n",
       "rmse      0.254818\n",
       "mean      0.230947\n",
       "median    0.199887\n",
       "std       0.107683\n",
       "min       0.111857\n",
       "max       0.497646\n",
       "sse         5.2595"
      ]
     },
     "execution_count": 64,
     "metadata": {},
     "output_type": "execute_result"
    }
   ],
   "source": [
    "df.loc[\"stats\"]"
   ]
  },
  {
   "cell_type": "code",
   "execution_count": null,
   "metadata": {},
   "outputs": [],
   "source": []
  }
 ],
 "metadata": {
  "kernelspec": {
   "display_name": "Python 3 (ipykernel)",
   "language": "python",
   "name": "python3"
  },
  "language_info": {
   "codemirror_mode": {
    "name": "ipython",
    "version": 3
   },
   "file_extension": ".py",
   "mimetype": "text/x-python",
   "name": "python",
   "nbconvert_exporter": "python",
   "pygments_lexer": "ipython3",
   "version": "3.8.10"
  },
  "widgets": {
   "state": {
    "54cc6cb1d20f45438fb3663d98d29406": {
     "views": [
      {
       "cell_index": 21
      }
     ]
    },
    "88c180f9f59147a592d738936cecf614": {
     "views": [
      {
       "cell_index": 16
      }
     ]
    }
   },
   "version": "1.2.0"
  }
 },
 "nbformat": 4,
 "nbformat_minor": 1
}
